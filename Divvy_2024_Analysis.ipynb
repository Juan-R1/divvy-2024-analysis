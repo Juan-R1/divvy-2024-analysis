{
 "cells": [
  {
   "cell_type": "markdown",
   "id": "86a5f9e5",
   "metadata": {},
   "source": [
    "# 🚲 Divvy Bike-Share 2024 Analysis\n",
    "This notebook combines, cleans, and prepares the 2024 Divvy bike-sharing data for analysis."
   ]
  },
  {
   "cell_type": "code",
   "execution_count": 1,
   "id": "20f56226",
   "metadata": {},
   "outputs": [
    {
     "name": "stdout",
     "output_type": "stream",
     "text": [
      "Current working directory:\n",
      "/Users/kimberlymunoz/Documents\n"
     ]
    }
   ],
   "source": [
    "import pandas as pd\n",
    "import glob\n",
    "import os\n",
    "from datetime import datetime"
   ]
  },
  {
   "cell_type": "markdown",
   "id": "a092b042",
   "metadata": {},
   "source": [
    "## 📥 Load and Combine Data"
   ]
  },
  {
   "cell_type": "code",
   "execution_count": null,
   "id": "d87931df",
   "metadata": {},
   "outputs": [],
   "source": [
    "# Adjust this path to where your CSV files are stored\n",
    "path = \"./divvy_data_2024\"  # Folder containing all 12 monthly CSVs\n",
    "all_files = glob.glob(os.path.join(path, \"*.csv\"))\n",
    "\n",
    "df_list = []\n",
    "for file in all_files:\n",
    "    df = pd.read_csv(file)\n",
    "    df[\"source_file\"] = os.path.basename(file)\n",
    "    df_list.append(df)\n",
    "\n",
    "df = pd.concat(df_list, ignore_index=True)\n",
    "df.head()"
   ]
  },
  {
   "cell_type": "markdown",
   "id": "adf8bf83",
   "metadata": {},
   "source": [
    "## 🧹 Clean the Data"
   ]
  },
  {
   "cell_type": "code",
   "execution_count": null,
   "id": "8aaa4463",
   "metadata": {},
   "outputs": [],
   "source": [
    "# Check column names (in case they vary slightly between months)\n",
    "df.columns = df.columns.str.lower().str.strip()\n",
    "\n",
    "# Convert time columns to datetime\n",
    "df['started_at'] = pd.to_datetime(df['started_at'])\n",
    "df['ended_at'] = pd.to_datetime(df['ended_at'])\n",
    "\n",
    "# Remove rows with nulls or invalid times\n",
    "df = df.dropna(subset=['started_at', 'ended_at'])\n",
    "df = df[df['ended_at'] > df['started_at']]\n",
    "\n",
    "# Create ride_length in minutes\n",
    "df['ride_length'] = (df['ended_at'] - df['started_at']).dt.total_seconds() / 60\n",
    "df = df[df['ride_length'] > 0]  # Filter out zero or negative durations"
   ]
  },
  {
   "cell_type": "markdown",
   "id": "c0a55bb8",
   "metadata": {},
   "source": [
    "## 🧠 Add Date & Time Features"
   ]
  },
  {
   "cell_type": "code",
   "execution_count": null,
   "id": "44ac13ec",
   "metadata": {},
   "outputs": [],
   "source": [
    "df['day_of_week'] = df['started_at'].dt.day_name()\n",
    "df['month'] = df['started_at'].dt.month_name()\n",
    "df['hour'] = df['started_at'].dt.hour\n",
    "\n",
    "def get_season(month):\n",
    "    if month in [12, 1, 2]:\n",
    "        return 'Winter'\n",
    "    elif month in [3, 4, 5]:\n",
    "        return 'Spring'\n",
    "    elif month in [6, 7, 8]:\n",
    "        return 'Summer'\n",
    "    else:\n",
    "        return 'Fall'\n",
    "\n",
    "df['season'] = df['started_at'].dt.month.apply(get_season)\n",
    "df.head()"
   ]
  },
  {
   "cell_type": "markdown",
   "id": "208fd5a5",
   "metadata": {},
   "source": [
    "## 💾 Export Cleaned Data"
   ]
  },
  {
   "cell_type": "code",
   "execution_count": null,
   "id": "17dfedad",
   "metadata": {},
   "outputs": [],
   "source": [
    "# Save to CSV\n",
    "df.to_csv(\"cleaned_divvy_2024.csv\", index=False)\n",
    "print(\"✅ Cleaned dataset saved as cleaned_divvy_2024.csv\")"
   ]
  }
 ],
 "metadata": {
  "kernelspec": {
   "display_name": "Python [conda env:base] *",
   "language": "python",
   "name": "conda-base-py"
  },
  "language_info": {
   "codemirror_mode": {
    "name": "ipython",
    "version": 3
   },
   "file_extension": ".py",
   "mimetype": "text/x-python",
   "name": "python",
   "nbconvert_exporter": "python",
   "pygments_lexer": "ipython3",
   "version": "3.12.7"
  }
 },
 "nbformat": 4,
 "nbformat_minor": 5
}
